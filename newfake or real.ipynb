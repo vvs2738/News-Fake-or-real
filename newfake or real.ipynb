{
 "cells": [
  {
   "cell_type": "code",
   "execution_count": 1,
   "metadata": {},
   "outputs": [
    {
     "name": "stdout",
     "output_type": "stream",
     "text": [
      "['REAL' 'FAKE' 'REAL' ... 'REAL' 'FAKE' 'REAL']\n",
      "Accuracy: 93.21%\n",
      "\n",
      " Confusion Matrix:\n",
      " [[598  40]\n",
      " [ 46 583]]\n",
      "\n",
      " Precision Score 0.93\n",
      "\n",
      " F-1 Score 0.93\n"
     ]
    }
   ],
   "source": [
    "import pandas as pd\n",
    "from sklearn.model_selection import train_test_split\n",
    "from sklearn.feature_extraction.text import TfidfVectorizer\n",
    "from sklearn.linear_model import PassiveAggressiveClassifier\n",
    "from sklearn.metrics import accuracy_score, confusion_matrix,precision_score,f1_score\n",
    "\n",
    "#Read the data\n",
    "df=pd.read_csv(\"C:\\\\Users\\\\Dr. Vivek Singhal\\\\Desktop\\\\New folder\\\\news\\\\news.csv\")\n",
    "\n",
    "#Get shape and head\n",
    "df.shape\n",
    "df.head()\n",
    "\n",
    "#Get the labels\n",
    "labels=df.label\n",
    "labels.head()\n",
    "\n",
    "\n",
    "#Split the dataset\n",
    "x_train,x_test,y_train,y_test=train_test_split(df['text'], labels, test_size=0.2, random_state=7)\n",
    "\n",
    "#Initialize a TfidfVectorizer\n",
    "tf=TfidfVectorizer(stop_words='english', max_df=0.3)\n",
    "\n",
    "#Fit and transform train set, transform test set\n",
    "tfidf_train=tf.fit_transform(x_train) \n",
    "tfidf_test=tf.transform(x_test)\n",
    "\n",
    "#Initialize a PassiveAggressiveClassifier\n",
    "p=PassiveAggressiveClassifier(max_iter=100)\n",
    "p.fit(tfidf_train,y_train)\n",
    "\n",
    "# Predict on the test set and calculate accuracy\n",
    "y_pred=p.predict(tfidf_test)\n",
    "\n",
    "print(y_pred)\n",
    "score=accuracy_score(y_test,y_pred)\n",
    "print(f'Accuracy: {round(score*100,2)}%')\n",
    "\n",
    "print('\\n Confusion Matrix:\\n',confusion_matrix(y_test,y_pred))\n",
    "print(\"\\n Precision Score\",round( precision_score(y_test, y_pred, average='weighted'),2))\n",
    "print(\"\\n F-1 Score\",round(f1_score(y_test, y_pred, average='weighted'),2))\n"
   ]
  },
  {
   "cell_type": "code",
   "execution_count": null,
   "metadata": {},
   "outputs": [],
   "source": []
  }
 ],
 "metadata": {
  "kernelspec": {
   "display_name": "Python 3",
   "language": "python",
   "name": "python3"
  },
  "language_info": {
   "codemirror_mode": {
    "name": "ipython",
    "version": 3
   },
   "file_extension": ".py",
   "mimetype": "text/x-python",
   "name": "python",
   "nbconvert_exporter": "python",
   "pygments_lexer": "ipython3",
   "version": "3.7.0"
  }
 },
 "nbformat": 4,
 "nbformat_minor": 4
}
